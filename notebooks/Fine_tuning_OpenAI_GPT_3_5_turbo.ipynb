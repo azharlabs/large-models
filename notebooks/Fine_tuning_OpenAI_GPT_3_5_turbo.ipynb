{
  "nbformat": 4,
  "nbformat_minor": 0,
  "metadata": {
    "colab": {
      "provenance": []
    },
    "kernelspec": {
      "name": "python3",
      "display_name": "Python 3"
    },
    "language_info": {
      "name": "python"
    }
  },
  "cells": [
    {
      "cell_type": "code",
      "execution_count": null,
      "metadata": {
        "colab": {
          "base_uri": "https://localhost:8080/"
        },
        "id": "-shMc1LBIWjQ",
        "outputId": "4c35b367-7929-4bb8-d613-492f2e48a0cb"
      },
      "outputs": [
        {
          "output_type": "stream",
          "name": "stdout",
          "text": [
            "\u001b[2K     \u001b[90m━━━━━━━━━━━━━━━━━━━━━━━━━━━━━━━━━━━━━━━\u001b[0m \u001b[32m519.3/519.3 kB\u001b[0m \u001b[31m6.7 MB/s\u001b[0m eta \u001b[36m0:00:00\u001b[0m\n",
            "\u001b[2K     \u001b[90m━━━━━━━━━━━━━━━━━━━━━━━━━━━━━━━━━━━━━━━━\u001b[0m \u001b[32m1.7/1.7 MB\u001b[0m \u001b[31m16.2 MB/s\u001b[0m eta \u001b[36m0:00:00\u001b[0m\n",
            "\u001b[2K     \u001b[90m━━━━━━━━━━━━━━━━━━━━━━━━━━━━━━━━━━━━━━━━\u001b[0m \u001b[32m75.5/75.5 kB\u001b[0m \u001b[31m7.1 MB/s\u001b[0m eta \u001b[36m0:00:00\u001b[0m\n",
            "\u001b[2K     \u001b[90m━━━━━━━━━━━━━━━━━━━━━━━━━━━━━━━━━━━━━━━\u001b[0m \u001b[32m115.3/115.3 kB\u001b[0m \u001b[31m8.0 MB/s\u001b[0m eta \u001b[36m0:00:00\u001b[0m\n",
            "\u001b[2K     \u001b[90m━━━━━━━━━━━━━━━━━━━━━━━━━━━━━━━━━━━━━━\u001b[0m \u001b[32m194.1/194.1 kB\u001b[0m \u001b[31m18.1 MB/s\u001b[0m eta \u001b[36m0:00:00\u001b[0m\n",
            "\u001b[2K     \u001b[90m━━━━━━━━━━━━━━━━━━━━━━━━━━━━━━━━━━━━━━\u001b[0m \u001b[32m134.8/134.8 kB\u001b[0m \u001b[31m11.7 MB/s\u001b[0m eta \u001b[36m0:00:00\u001b[0m\n",
            "\u001b[2K     \u001b[90m━━━━━━━━━━━━━━━━━━━━━━━━━━━━━━━━━━━━━━\u001b[0m \u001b[32m268.8/268.8 kB\u001b[0m \u001b[31m17.5 MB/s\u001b[0m eta \u001b[36m0:00:00\u001b[0m\n",
            "\u001b[?25h"
          ]
        }
      ],
      "source": [
        "!pip -q install datasets tiktoken openai"
      ]
    },
    {
      "cell_type": "markdown",
      "source": [
        "# Fine Tuning OpenAI GPT-3.5-turbo\n",
        "\n",
        "A lot taken from:\n",
        "https://github.com/openai/openai-cookbook"
      ],
      "metadata": {
        "id": "AJagDsTsIn9z"
      }
    },
    {
      "cell_type": "code",
      "source": [
        "import openai\n",
        "import os\n",
        "\n",
        "openai.api_key = \"\""
      ],
      "metadata": {
        "id": "h9pjgQN3X8uL"
      },
      "execution_count": null,
      "outputs": []
    },
    {
      "cell_type": "markdown",
      "source": [
        "## Prepare your data"
      ],
      "metadata": {
        "id": "Be8iGakrIlZz"
      }
    },
    {
      "cell_type": "code",
      "source": [
        "{\n",
        "  \"messages\": [\n",
        "    { \"role\": \"system\", \"content\": \"You are an assistant that occasionally misspells words\" },\n",
        "    { \"role\": \"user\", \"content\": \"Tell me a story.\" },\n",
        "    { \"role\": \"assistant\", \"content\": \"One day a student went to schoool.\" }\n",
        "  ]\n",
        "}"
      ],
      "metadata": {
        "colab": {
          "base_uri": "https://localhost:8080/"
        },
        "id": "93EAD7yZInAJ",
        "outputId": "b1b5bbc2-0c43-4129-cd73-dfd60b6a624e"
      },
      "execution_count": null,
      "outputs": [
        {
          "output_type": "execute_result",
          "data": {
            "text/plain": [
              "{'messages': [{'role': 'system',\n",
              "   'content': 'You are an assistant that occasionally misspells words'},\n",
              "  {'role': 'user', 'content': 'Tell me a story.'},\n",
              "  {'role': 'assistant', 'content': 'One day a student went to schoool.'}]}"
            ]
          },
          "metadata": {},
          "execution_count": 2
        }
      ]
    },
    {
      "cell_type": "code",
      "source": [
        "!git clone https://huggingface.co/datasets/ehartford/samantha-data"
      ],
      "metadata": {
        "colab": {
          "base_uri": "https://localhost:8080/"
        },
        "id": "k9LidYNlO26w",
        "outputId": "d665e894-47bf-44cb-8733-ad2444018a7d"
      },
      "execution_count": null,
      "outputs": [
        {
          "output_type": "stream",
          "name": "stdout",
          "text": [
            "Cloning into 'samantha-data'...\n",
            "remote: Enumerating objects: 90, done.\u001b[K\n",
            "remote: Counting objects: 100% (90/90), done.\u001b[K\n",
            "remote: Compressing objects: 100% (67/67), done.\u001b[K\n",
            "remote: Total 90 (delta 25), reused 80 (delta 21), pack-reused 0\u001b[K\n",
            "Unpacking objects: 100% (90/90), 4.85 MiB | 6.40 MiB/s, done.\n",
            "Filtering content: 100% (9/9), 258.79 MiB | 41.62 MiB/s, done.\n"
          ]
        }
      ]
    },
    {
      "cell_type": "code",
      "source": [
        "!zip -r samantha-data.zip /content/samantha-data"
      ],
      "metadata": {
        "colab": {
          "base_uri": "https://localhost:8080/"
        },
        "id": "s4Uk1zr1PJ-2",
        "outputId": "4ba8a982-6142-4dfd-fc8e-aacc7af8af0e"
      },
      "execution_count": null,
      "outputs": [
        {
          "output_type": "stream",
          "name": "stdout",
          "text": [
            "  adding: content/samantha-data/ (stored 0%)\n",
            "  adding: content/samantha-data/.git/ (stored 0%)\n",
            "  adding: content/samantha-data/.git/HEAD (stored 0%)\n",
            "  adding: content/samantha-data/.git/config (deflated 39%)\n",
            "  adding: content/samantha-data/.git/branches/ (stored 0%)\n",
            "  adding: content/samantha-data/.git/hooks/ (stored 0%)\n",
            "  adding: content/samantha-data/.git/hooks/post-checkout (deflated 26%)\n",
            "  adding: content/samantha-data/.git/hooks/pre-receive.sample (deflated 40%)\n",
            "  adding: content/samantha-data/.git/hooks/pre-merge-commit.sample (deflated 39%)\n",
            "  adding: content/samantha-data/.git/hooks/push-to-checkout.sample (deflated 55%)\n",
            "  adding: content/samantha-data/.git/hooks/post-merge (deflated 25%)\n",
            "  adding: content/samantha-data/.git/hooks/post-update.sample (deflated 27%)\n",
            "  adding: content/samantha-data/.git/hooks/pre-applypatch.sample (deflated 38%)\n",
            "  adding: content/samantha-data/.git/hooks/update.sample (deflated 68%)\n",
            "  adding: content/samantha-data/.git/hooks/prepare-commit-msg.sample (deflated 50%)\n",
            "  adding: content/samantha-data/.git/hooks/commit-msg.sample (deflated 44%)\n",
            "  adding: content/samantha-data/.git/hooks/applypatch-msg.sample (deflated 42%)\n",
            "  adding: content/samantha-data/.git/hooks/pre-push.sample (deflated 49%)\n",
            "  adding: content/samantha-data/.git/hooks/pre-commit.sample (deflated 45%)\n",
            "  adding: content/samantha-data/.git/hooks/pre-rebase.sample (deflated 59%)\n",
            "  adding: content/samantha-data/.git/hooks/pre-push (deflated 24%)\n",
            "  adding: content/samantha-data/.git/hooks/fsmonitor-watchman.sample (deflated 62%)\n",
            "  adding: content/samantha-data/.git/hooks/post-commit (deflated 25%)\n",
            "  adding: content/samantha-data/.git/packed-refs (deflated 10%)\n",
            "  adding: content/samantha-data/.git/refs/ (stored 0%)\n",
            "  adding: content/samantha-data/.git/refs/tags/ (stored 0%)\n",
            "  adding: content/samantha-data/.git/refs/remotes/ (stored 0%)\n",
            "  adding: content/samantha-data/.git/refs/remotes/origin/ (stored 0%)\n",
            "  adding: content/samantha-data/.git/refs/remotes/origin/HEAD (stored 0%)\n",
            "  adding: content/samantha-data/.git/refs/heads/ (stored 0%)\n",
            "  adding: content/samantha-data/.git/refs/heads/main (stored 0%)\n",
            "  adding: content/samantha-data/.git/objects/ (stored 0%)\n",
            "  adding: content/samantha-data/.git/objects/d1/ (stored 0%)\n",
            "  adding: content/samantha-data/.git/objects/d1/413994b227595e79522c2f57e1079731545447 (stored 0%)\n",
            "  adding: content/samantha-data/.git/objects/0c/ (stored 0%)\n",
            "  adding: content/samantha-data/.git/objects/0c/bda70d7f87b78762d8c1aad2826db1971f1ef6 (stored 0%)\n",
            "  adding: content/samantha-data/.git/objects/06/ (stored 0%)\n",
            "  adding: content/samantha-data/.git/objects/06/fd807a6d3ec47d3059b9ef5534a94f9d2875ca (stored 0%)\n",
            "  adding: content/samantha-data/.git/objects/10/ (stored 0%)\n",
            "  adding: content/samantha-data/.git/objects/10/e907a8e3d2ceb4b836fdc821908955142d4847 (stored 0%)\n",
            "  adding: content/samantha-data/.git/objects/6c/ (stored 0%)\n",
            "  adding: content/samantha-data/.git/objects/6c/24fd14ec889f5c9528778e6be95b9b62280b5b (stored 0%)\n",
            "  adding: content/samantha-data/.git/objects/be/ (stored 0%)\n",
            "  adding: content/samantha-data/.git/objects/be/b3ff85c9c1c89daf004b0575c63d693be32da8 (stored 0%)\n",
            "  adding: content/samantha-data/.git/objects/0d/ (stored 0%)\n",
            "  adding: content/samantha-data/.git/objects/0d/75399726020644ff7adb5432a6727913f35139 (stored 0%)\n",
            "  adding: content/samantha-data/.git/objects/2f/ (stored 0%)\n",
            "  adding: content/samantha-data/.git/objects/2f/02d4a5b041305323ee98d5820050f1cfbc6991 (stored 0%)\n",
            "  adding: content/samantha-data/.git/objects/3a/ (stored 0%)\n",
            "  adding: content/samantha-data/.git/objects/3a/5551518b087957ff7ff5379655d92185906b36 (stored 0%)\n",
            "  adding: content/samantha-data/.git/objects/92/ (stored 0%)\n",
            "  adding: content/samantha-data/.git/objects/92/05402b59402abf3cc94c44bdda3ed62c3cc5ef (stored 0%)\n",
            "  adding: content/samantha-data/.git/objects/9f/ (stored 0%)\n",
            "  adding: content/samantha-data/.git/objects/9f/760ca02e6da15660c9346e0606d2187209e632 (deflated 0%)\n",
            "  adding: content/samantha-data/.git/objects/db/ (stored 0%)\n",
            "  adding: content/samantha-data/.git/objects/db/8535532ca7fefea8d1539996290e2970b4793f (stored 0%)\n",
            "  adding: content/samantha-data/.git/objects/51/ (stored 0%)\n",
            "  adding: content/samantha-data/.git/objects/51/3212095e36fe82923e814623b267033e949995 (stored 0%)\n",
            "  adding: content/samantha-data/.git/objects/53/ (stored 0%)\n",
            "  adding: content/samantha-data/.git/objects/53/54f85d550509a3ad0c64a26f72198062132462 (deflated 0%)\n",
            "  adding: content/samantha-data/.git/objects/34/ (stored 0%)\n",
            "  adding: content/samantha-data/.git/objects/34/5dfaa6b9c6877a6774f396030917141825de80 (stored 0%)\n",
            "  adding: content/samantha-data/.git/objects/3f/ (stored 0%)\n",
            "  adding: content/samantha-data/.git/objects/3f/98886d6fc10b66f0cbef159c4e6f64701da95d (stored 0%)\n",
            "  adding: content/samantha-data/.git/objects/d2/ (stored 0%)\n",
            "  adding: content/samantha-data/.git/objects/d2/9f329f32f1623be12c2392e56e7e0d2e001e05 (stored 0%)\n",
            "  adding: content/samantha-data/.git/objects/d2/34795361319594362d7da46831281b17a7ec8f (stored 0%)\n",
            "  adding: content/samantha-data/.git/objects/0b/ (stored 0%)\n",
            "  adding: content/samantha-data/.git/objects/0b/90ebdb0a22410640482791a17f1f1f1d3ed243 (stored 0%)\n",
            "  adding: content/samantha-data/.git/objects/c1/ (stored 0%)\n",
            "  adding: content/samantha-data/.git/objects/c1/456d12be399c439790be13e6f319b962cb480d (stored 0%)\n",
            "  adding: content/samantha-data/.git/objects/38/ (stored 0%)\n",
            "  adding: content/samantha-data/.git/objects/38/e5c3904b6df408e2065bf2b216f45d5261c43a (stored 0%)\n",
            "  adding: content/samantha-data/.git/objects/15/ (stored 0%)\n",
            "  adding: content/samantha-data/.git/objects/15/4df8298fab5ecf322016157858e08cd1bccbe1 (stored 0%)\n",
            "  adding: content/samantha-data/.git/objects/9b/ (stored 0%)\n",
            "  adding: content/samantha-data/.git/objects/9b/8a54cd9abe10a2bf188387d29f6269ac1992f1 (deflated 0%)\n",
            "  adding: content/samantha-data/.git/objects/d6/ (stored 0%)\n",
            "  adding: content/samantha-data/.git/objects/d6/8fd4ff8e4e7e799f6fbcbc43a15eef65cfccc9 (stored 0%)\n",
            "  adding: content/samantha-data/.git/objects/d6/b69c010d9e9f62e743ac8cbe3ce5a590da6f12 (stored 0%)\n",
            "  adding: content/samantha-data/.git/objects/42/ (stored 0%)\n",
            "  adding: content/samantha-data/.git/objects/42/ec652ab124bcbd525f28f3200798afb6b94851 (deflated 0%)\n",
            "  adding: content/samantha-data/.git/objects/fb/ (stored 0%)\n",
            "  adding: content/samantha-data/.git/objects/fb/91f32801fcdad0bda425f551a12a11f0296e71 (stored 0%)\n",
            "  adding: content/samantha-data/.git/objects/31/ (stored 0%)\n",
            "  adding: content/samantha-data/.git/objects/31/77ca1d8198b962bf8385c5370c309a198cfc4f (stored 0%)\n",
            "  adding: content/samantha-data/.git/objects/31/2e85662dead93f06d0341a2d84a260ada8042e (deflated 0%)\n",
            "  adding: content/samantha-data/.git/objects/24/ (stored 0%)\n",
            "  adding: content/samantha-data/.git/objects/24/c3bf63049e7b4cf830e00cc122aeca43c1a6cb (stored 0%)\n",
            "  adding: content/samantha-data/.git/objects/24/57668af8d02740f9c476a748ace346ba512df3 (stored 0%)\n",
            "  adding: content/samantha-data/.git/objects/4e/ (stored 0%)\n",
            "  adding: content/samantha-data/.git/objects/4e/211a4eb382698c5a4344e4e22dd1672f60690f (stored 0%)\n",
            "  adding: content/samantha-data/.git/objects/b4/ (stored 0%)\n",
            "  adding: content/samantha-data/.git/objects/b4/4338751307471d197c8fabc1056715da1c72e7 (stored 0%)\n",
            "  adding: content/samantha-data/.git/objects/f0/ (stored 0%)\n",
            "  adding: content/samantha-data/.git/objects/f0/7ddc6d8043f37a0be5a7ca11cec175049fdca8 (deflated 0%)\n",
            "  adding: content/samantha-data/.git/objects/f0/fcafbb6dfe6a6d65e0fad8cb8d510c5c06f513 (stored 0%)\n",
            "  adding: content/samantha-data/.git/objects/d0/ (stored 0%)\n",
            "  adding: content/samantha-data/.git/objects/d0/2d48bf5bfd33591f1229342eb9f61c7d24bef7 (stored 0%)\n",
            "  adding: content/samantha-data/.git/objects/d3/ (stored 0%)\n",
            "  adding: content/samantha-data/.git/objects/d3/ef49151874ba3b87ed512304692273519e78e8 (deflated 0%)\n",
            "  adding: content/samantha-data/.git/objects/89/ (stored 0%)\n",
            "  adding: content/samantha-data/.git/objects/89/e6336f59a91aec971152058f64587b4422fd63 (stored 0%)\n",
            "  adding: content/samantha-data/.git/objects/89/9b501df546c9a8188238345bfa6c5a87db7c5e (stored 0%)\n",
            "  adding: content/samantha-data/.git/objects/e4/ (stored 0%)\n",
            "  adding: content/samantha-data/.git/objects/e4/fd0c13bc65c8141a81d3dfe33f5095526e3810 (stored 0%)\n",
            "  adding: content/samantha-data/.git/objects/d9/ (stored 0%)\n",
            "  adding: content/samantha-data/.git/objects/d9/74266e6874293d0fe1fd1f8257afeb083d43f7 (stored 0%)\n",
            "  adding: content/samantha-data/.git/objects/f4/ (stored 0%)\n",
            "  adding: content/samantha-data/.git/objects/f4/f3945bd7150d3e12988485c42da1f8c29c59f8 (stored 0%)\n",
            "  adding: content/samantha-data/.git/objects/94/ (stored 0%)\n",
            "  adding: content/samantha-data/.git/objects/94/aacc0487d52b00f21a893c615f91602deb1f88 (stored 0%)\n",
            "  adding: content/samantha-data/.git/objects/55/ (stored 0%)\n",
            "  adding: content/samantha-data/.git/objects/55/1e014d35691f05055a3175f4a89a435091ce7e (stored 0%)\n",
            "  adding: content/samantha-data/.git/objects/5a/ (stored 0%)\n",
            "  adding: content/samantha-data/.git/objects/5a/44d0ab6a59153b2408dc4739ba069f53cad00a (stored 0%)\n",
            "  adding: content/samantha-data/.git/objects/18/ (stored 0%)\n",
            "  adding: content/samantha-data/.git/objects/18/ff3e988032b30756edbd43d7d2b831c7d9f952 (deflated 0%)\n",
            "  adding: content/samantha-data/.git/objects/e1/ (stored 0%)\n",
            "  adding: content/samantha-data/.git/objects/e1/f68280ee92c180db21b2b63717cbe017f0ccc7 (stored 0%)\n",
            "  adding: content/samantha-data/.git/objects/57/ (stored 0%)\n",
            "  adding: content/samantha-data/.git/objects/57/b9bc61e8b4a9bd108cb27c29b8a5c91d7c39e2 (stored 0%)\n",
            "  adding: content/samantha-data/.git/objects/62/ (stored 0%)\n",
            "  adding: content/samantha-data/.git/objects/62/beae3c38286007135eaf98866b34e03b7d2410 (stored 0%)\n",
            "  adding: content/samantha-data/.git/objects/52/ (stored 0%)\n",
            "  adding: content/samantha-data/.git/objects/52/490987234ac3d58a3b9ce0c77d34937cd629be (stored 0%)\n",
            "  adding: content/samantha-data/.git/objects/c8/ (stored 0%)\n",
            "  adding: content/samantha-data/.git/objects/c8/c198634aca2e66edb6aece27920bdfc37da19c (stored 0%)\n",
            "  adding: content/samantha-data/.git/objects/c8/2450f7504b7eb39dea6bc6961f8757571f6c45 (stored 0%)\n",
            "  adding: content/samantha-data/.git/objects/ad/ (stored 0%)\n",
            "  adding: content/samantha-data/.git/objects/ad/d43885605ec47741468ef2b210607af062152b (stored 0%)\n",
            "  adding: content/samantha-data/.git/objects/69/ (stored 0%)\n",
            "  adding: content/samantha-data/.git/objects/69/8784dcccd73569e5c9a0c03da6e6997de95ca7 (stored 0%)\n",
            "  adding: content/samantha-data/.git/objects/ec/ (stored 0%)\n",
            "  adding: content/samantha-data/.git/objects/ec/3405244db15970b3b1fe4dc4bb650c68204438 (stored 0%)\n",
            "  adding: content/samantha-data/.git/objects/ec/dba2b46bf659e83bb1bbf6a05dfa8ee904e558 (stored 0%)\n",
            "  adding: content/samantha-data/.git/objects/00/ (stored 0%)\n",
            "  adding: content/samantha-data/.git/objects/00/45b916ae2ecd7bb84f3512824314e28a328579 (stored 0%)\n",
            "  adding: content/samantha-data/.git/objects/3e/ (stored 0%)\n",
            "  adding: content/samantha-data/.git/objects/3e/798bc7e1b8d0991ac52123be7a29b1bac3a76e (stored 0%)\n",
            "  adding: content/samantha-data/.git/objects/97/ (stored 0%)\n",
            "  adding: content/samantha-data/.git/objects/97/e7a361d219641ce1441d09ed88c5d1e65e80ed (stored 0%)\n",
            "  adding: content/samantha-data/.git/objects/97/95f6eca4e13b04157e5220e67f41e612dea89f (stored 0%)\n",
            "  adding: content/samantha-data/.git/objects/26/ (stored 0%)\n",
            "  adding: content/samantha-data/.git/objects/26/1eeb9e9f8b2b4b0d119366dda99c6fd7d35c64 (stored 0%)\n",
            "  adding: content/samantha-data/.git/objects/13/ (stored 0%)\n",
            "  adding: content/samantha-data/.git/objects/13/8bdc5075e4d6431854c6b5d2ce0de160e5fecd (stored 0%)\n",
            "  adding: content/samantha-data/.git/objects/b7/ (stored 0%)\n",
            "  adding: content/samantha-data/.git/objects/b7/a1f166ec113b97779db6d76384eccc7a504bc7 (stored 0%)\n",
            "  adding: content/samantha-data/.git/objects/7f/ (stored 0%)\n",
            "  adding: content/samantha-data/.git/objects/7f/b8824489ac81b04468947b146b78bdd3db5a46 (stored 0%)\n",
            "  adding: content/samantha-data/.git/objects/2e/ (stored 0%)\n",
            "  adding: content/samantha-data/.git/objects/2e/9767c3e5783fc3ce67a70355aab3bc33393775 (stored 0%)\n",
            "  adding: content/samantha-data/.git/objects/96/ (stored 0%)\n",
            "  adding: content/samantha-data/.git/objects/96/9fbf96fe3809c12ec870dac1c2e2968c2f5448 (stored 0%)\n",
            "  adding: content/samantha-data/.git/objects/ed/ (stored 0%)\n",
            "  adding: content/samantha-data/.git/objects/ed/82ad2bff06d6051708928fd3f7c0cd4e853a50 (stored 0%)\n",
            "  adding: content/samantha-data/.git/objects/ed/a955c16117746795d01f80621708e2bbaede13 (stored 0%)\n",
            "  adding: content/samantha-data/.git/objects/8b/ (stored 0%)\n",
            "  adding: content/samantha-data/.git/objects/8b/02cf466744da591046213e8d3fc3556b6a87a4 (deflated 0%)\n",
            "  adding: content/samantha-data/.git/objects/11/ (stored 0%)\n",
            "  adding: content/samantha-data/.git/objects/11/567a5015cac852074509514614c779adcc8f64 (stored 0%)\n",
            "  adding: content/samantha-data/.git/objects/19/ (stored 0%)\n",
            "  adding: content/samantha-data/.git/objects/19/8498272b2d4af7ad7e6c80ba3d5a4be7cd7803 (stored 0%)\n",
            "  adding: content/samantha-data/.git/objects/19/e61c2bfe6c710c017c632b963687ac8ba253c6 (stored 0%)\n",
            "  adding: content/samantha-data/.git/objects/f1/ (stored 0%)\n",
            "  adding: content/samantha-data/.git/objects/f1/1b32817d9f13cacfc979a1ab66a7511f7f742a (stored 0%)\n",
            "  adding: content/samantha-data/.git/objects/5f/ (stored 0%)\n",
            "  adding: content/samantha-data/.git/objects/5f/7cacd9c11e24c61c14fc35d518fb17dc8684c1 (stored 0%)\n",
            "  adding: content/samantha-data/.git/objects/2d/ (stored 0%)\n",
            "  adding: content/samantha-data/.git/objects/2d/68fe939059973f8537481ec88ed4c6def47c11 (stored 0%)\n",
            "  adding: content/samantha-data/.git/objects/8c/ (stored 0%)\n",
            "  adding: content/samantha-data/.git/objects/8c/7d2d2a89db9e9986cb47d1ec74072f017972e2 (stored 0%)\n",
            "  adding: content/samantha-data/.git/objects/4b/ (stored 0%)\n",
            "  adding: content/samantha-data/.git/objects/4b/1174b240ad5dbfa9e1e6788f22c82224ac0d6f (stored 0%)\n",
            "  adding: content/samantha-data/.git/objects/ca/ (stored 0%)\n",
            "  adding: content/samantha-data/.git/objects/ca/6c3797a094baafac752b23c8469107a9b3a53d (stored 0%)\n",
            "  adding: content/samantha-data/.git/objects/6f/ (stored 0%)\n",
            "  adding: content/samantha-data/.git/objects/6f/73c2f2cd06fe359dd60dc79e90c87a45617f5e (stored 0%)\n",
            "  adding: content/samantha-data/.git/objects/33/ (stored 0%)\n",
            "  adding: content/samantha-data/.git/objects/33/3b612c91fd610ffdf40639a161bc86b047cec8 (stored 0%)\n",
            "  adding: content/samantha-data/.git/objects/pack/ (stored 0%)\n",
            "  adding: content/samantha-data/.git/objects/40/ (stored 0%)\n",
            "  adding: content/samantha-data/.git/objects/40/8e4cee9ab3573b82b9117de779db13ede50232 (stored 0%)\n",
            "  adding: content/samantha-data/.git/objects/info/ (stored 0%)\n",
            "  adding: content/samantha-data/.git/objects/23/ (stored 0%)\n",
            "  adding: content/samantha-data/.git/objects/23/fec8b30aa18da518355a457e32e7d6baf9b0d3 (stored 0%)\n",
            "  adding: content/samantha-data/.git/objects/a8/ (stored 0%)\n",
            "  adding: content/samantha-data/.git/objects/a8/56515bd4f3c8c9b2df3db67cd8ff3a99270297 (stored 0%)\n",
            "  adding: content/samantha-data/.git/objects/91/ (stored 0%)\n",
            "  adding: content/samantha-data/.git/objects/91/182a5f57e90fba2f28b28fe3d2cdf8c973f5f4 (stored 0%)\n",
            "  adding: content/samantha-data/.git/objects/b0/ (stored 0%)\n",
            "  adding: content/samantha-data/.git/objects/b0/5733dfcc81261960b98d2a66409915c991cba9 (stored 0%)\n",
            "  adding: content/samantha-data/.git/objects/dc/ (stored 0%)\n",
            "  adding: content/samantha-data/.git/objects/dc/1fb3f02ac3d3e6a545330bbb13b052d671cc89 (stored 0%)\n",
            "  adding: content/samantha-data/.git/objects/83/ (stored 0%)\n",
            "  adding: content/samantha-data/.git/objects/83/ab8aa8a97384eb2b7e777a7edf5011c7d62fe1 (stored 0%)\n",
            "  adding: content/samantha-data/.git/objects/5d/ (stored 0%)\n",
            "  adding: content/samantha-data/.git/objects/5d/8cc880027f0fb413101b92a1b15e978f2b5ebb (stored 0%)\n",
            "  adding: content/samantha-data/.git/objects/b5/ (stored 0%)\n",
            "  adding: content/samantha-data/.git/objects/b5/1581db0e99c0422b6daf9a9b5999519fb810f2 (deflated 0%)\n",
            "  adding: content/samantha-data/.git/objects/eb/ (stored 0%)\n",
            "  adding: content/samantha-data/.git/objects/eb/5c86c5706eb42caa14ec2239aa830fc5d9b68f (deflated 0%)\n",
            "  adding: content/samantha-data/.git/index (deflated 44%)\n",
            "  adding: content/samantha-data/.git/description (deflated 14%)\n",
            "  adding: content/samantha-data/.git/lfs/ (stored 0%)\n",
            "  adding: content/samantha-data/.git/lfs/incomplete/ (stored 0%)\n",
            "  adding: content/samantha-data/.git/lfs/tmp/ (stored 0%)\n",
            "  adding: content/samantha-data/.git/lfs/objects/ (stored 0%)\n",
            "  adding: content/samantha-data/.git/lfs/objects/6c/ (stored 0%)\n",
            "  adding: content/samantha-data/.git/lfs/objects/6c/9a/ (stored 0%)\n",
            "  adding: content/samantha-data/.git/lfs/objects/6c/9a/6c9a21554533c1e84bbc377b08d8ab37a8ab11481b719a591a7b9fc2827accb3 (deflated 91%)\n",
            "  adding: content/samantha-data/.git/lfs/objects/1e/ (stored 0%)\n",
            "  adding: content/samantha-data/.git/lfs/objects/1e/fe/ (stored 0%)\n",
            "  adding: content/samantha-data/.git/lfs/objects/1e/fe/1efe7f9c2fc28bebe8bf87ff3e6ef4c181a7201714c903955708ba4129a67307 (deflated 76%)\n",
            "  adding: content/samantha-data/.git/lfs/objects/fc/ (stored 0%)\n",
            "  adding: content/samantha-data/.git/lfs/objects/fc/5b/ (stored 0%)\n",
            "  adding: content/samantha-data/.git/lfs/objects/fc/5b/fc5bb93102bed501e2b971aeb923d74d56734c827b762cec2198ea5c02ce90be (deflated 73%)\n",
            "  adding: content/samantha-data/.git/lfs/objects/32/ (stored 0%)\n",
            "  adding: content/samantha-data/.git/lfs/objects/32/c9/ (stored 0%)\n",
            "  adding: content/samantha-data/.git/lfs/objects/32/c9/32c9efd3f0a9c0d44ef544c39dc83027c8dd345d7b3f56a0d0d29bbe95834f25 (deflated 76%)\n",
            "  adding: content/samantha-data/.git/lfs/objects/64/ (stored 0%)\n",
            "  adding: content/samantha-data/.git/lfs/objects/64/b0/ (stored 0%)\n",
            "  adding: content/samantha-data/.git/lfs/objects/64/b0/64b07b9da3f397c691412fb998410d3eda8f4c81a7b56c19d3ccfb9a0e74497e (deflated 76%)\n",
            "  adding: content/samantha-data/.git/lfs/objects/ed/ (stored 0%)\n",
            "  adding: content/samantha-data/.git/lfs/objects/ed/54/ (stored 0%)\n",
            "  adding: content/samantha-data/.git/lfs/objects/ed/54/ed5449e0e5b2d33537c00834180f781008f3e89501a4b64944c9fd67254385e0 (deflated 77%)\n",
            "  adding: content/samantha-data/.git/lfs/objects/ef/ (stored 0%)\n",
            "  adding: content/samantha-data/.git/lfs/objects/ef/7b/ (stored 0%)\n",
            "  adding: content/samantha-data/.git/lfs/objects/ef/7b/ef7b87855117e5ac12e5c96ae605770c0bedac0631fa1ff6532c40052bcaa6ea (deflated 76%)\n",
            "  adding: content/samantha-data/.git/lfs/objects/6f/ (stored 0%)\n",
            "  adding: content/samantha-data/.git/lfs/objects/6f/f8/ (stored 0%)\n",
            "  adding: content/samantha-data/.git/lfs/objects/6f/f8/6ff80fd4ff08989885a9208befe774046a6bf57f55a856aefca2b67ff73a0423 (deflated 79%)\n",
            "  adding: content/samantha-data/.git/lfs/objects/6d/ (stored 0%)\n",
            "  adding: content/samantha-data/.git/lfs/objects/6d/15/ (stored 0%)\n",
            "  adding: content/samantha-data/.git/lfs/objects/6d/15/6d15521efe9b09dd4281755144946821fa5f4d78aebfa29211690c6e7660e449 (deflated 74%)\n",
            "  adding: content/samantha-data/.git/info/ (stored 0%)\n",
            "  adding: content/samantha-data/.git/info/exclude (deflated 28%)\n",
            "  adding: content/samantha-data/.git/logs/ (stored 0%)\n",
            "  adding: content/samantha-data/.git/logs/HEAD (deflated 30%)\n",
            "  adding: content/samantha-data/.git/logs/refs/ (stored 0%)\n",
            "  adding: content/samantha-data/.git/logs/refs/remotes/ (stored 0%)\n",
            "  adding: content/samantha-data/.git/logs/refs/remotes/origin/ (stored 0%)\n",
            "  adding: content/samantha-data/.git/logs/refs/remotes/origin/HEAD (deflated 30%)\n",
            "  adding: content/samantha-data/.git/logs/refs/heads/ (stored 0%)\n",
            "  adding: content/samantha-data/.git/logs/refs/heads/main (deflated 30%)\n",
            "  adding: content/samantha-data/data/ (stored 0%)\n",
            "  adding: content/samantha-data/data/converted_split.json (deflated 76%)\n",
            "  adding: content/samantha-data/data/converted_conversations.json (deflated 76%)\n",
            "  adding: content/samantha-data/data/data.jsonl (deflated 73%)\n",
            "  adding: content/samantha-data/data/math_code_conversations.jsonl (deflated 71%)\n",
            "  adding: content/samantha-data/data/random_conversations.jsonl (deflated 71%)\n",
            "  adding: content/samantha-data/data/advice_conversations.jsonl (deflated 72%)\n",
            "  adding: content/samantha-data/data/recipe_conversations.jsonl (deflated 72%)\n",
            "  adding: content/samantha-data/data/leetcode-solutions.jsonl (deflated 79%)\n",
            "  adding: content/samantha-data/data/therapy_conversations.jsonl (deflated 72%)\n",
            "  adding: content/samantha-data/data/fundamental_conversations.jsonl (deflated 74%)\n",
            "  adding: content/samantha-data/data/joke_conversations.jsonl (deflated 69%)\n",
            "  adding: content/samantha-data/data/converted_conversations.jsonl (deflated 74%)\n",
            "  adding: content/samantha-data/data/trolling_conversations.jsonl (deflated 74%)\n",
            "  adding: content/samantha-data/data/philosophy_conversations.jsonl (deflated 72%)\n",
            "  adding: content/samantha-data/data/flirty_conversations.jsonl (deflated 79%)\n",
            "  adding: content/samantha-data/data/howto_conversations.jsonl (deflated 69%)\n",
            "  adding: content/samantha-data/samantha-1.1-zh.json (deflated 76%)\n",
            "  adding: content/samantha-data/nodemon.json (deflated 23%)\n",
            "  adding: content/samantha-data/scripts/ (stored 0%)\n",
            "  adding: content/samantha-data/scripts/README.md (deflated 40%)\n",
            "  adding: content/samantha-data/scripts/fix_samantha.py (deflated 65%)\n",
            "  adding: content/samantha-data/.gitignore (stored 0%)\n",
            "  adding: content/samantha-data/README.md (deflated 44%)\n",
            "  adding: content/samantha-data/package.json (deflated 49%)\n",
            "  adding: content/samantha-data/samantha-1.1.json (deflated 77%)\n",
            "  adding: content/samantha-data/tsconfig.json (deflated 45%)\n",
            "  adding: content/samantha-data/samantha_1.1-km.jsonl (deflated 91%)\n",
            "  adding: content/samantha-data/.env.example (deflated 4%)\n",
            "  adding: content/samantha-data/LICENSE (deflated 65%)\n",
            "  adding: content/samantha-data/samantha-1.0.json (deflated 76%)\n",
            "  adding: content/samantha-data/yarn.lock (deflated 54%)\n",
            "  adding: content/samantha-data/.gitattributes (deflated 87%)\n",
            "  adding: content/samantha-data/src/ (stored 0%)\n",
            "  adding: content/samantha-data/src/lemoine.ts (deflated 64%)\n",
            "  adding: content/samantha-data/src/script_to_sharegpt.ts (deflated 45%)\n",
            "  adding: content/samantha-data/src/index.ts (deflated 60%)\n"
          ]
        }
      ]
    },
    {
      "cell_type": "code",
      "source": [
        "import json\n",
        "import os\n",
        "import tiktoken\n",
        "import numpy as np\n",
        "from collections import defaultdict"
      ],
      "metadata": {
        "id": "MQuGMNYRLYzi"
      },
      "execution_count": null,
      "outputs": []
    },
    {
      "cell_type": "code",
      "source": [
        "# I am picking one file here but you would probably want to do a lot more for a proper model\n",
        "data_path = \"/content/samantha-data/data/howto_conversations.jsonl\""
      ],
      "metadata": {
        "id": "FHXnJMQtLcpL"
      },
      "execution_count": null,
      "outputs": []
    },
    {
      "cell_type": "code",
      "source": [
        "# Load dataset\n",
        "with open(data_path) as f:\n",
        "    json_dataset = [json.loads(line) for line in f]"
      ],
      "metadata": {
        "id": "Htywc4ELLhJr"
      },
      "execution_count": null,
      "outputs": []
    },
    {
      "cell_type": "code",
      "source": [
        "json_dataset[0]"
      ],
      "metadata": {
        "colab": {
          "base_uri": "https://localhost:8080/"
        },
        "id": "eeGw1dmhP6E2",
        "outputId": "28c5c096-42fc-42fb-d53a-0cd45f21fb1e"
      },
      "execution_count": null,
      "outputs": [
        {
          "output_type": "execute_result",
          "data": {
            "text/plain": [
              "{'elapsed': 114.311,\n",
              " 'conversation': 'Theodore: Hey Samantha, I have a problem with my car. The engine seems to overheat after just a short drive. Can you help me troubleshoot this issue?\\n\\nSamantha: Of course, I\\'d be happy to help! Overheating engines can be caused by a few different factors. One common cause could be a malfunctioning coolant system. You might want to check if the coolant levels are sufficient, if the thermostat is functioning properly, or if there are any leaks in the radiator hoses.\\n\\nTheodore: I\\'ll take a look. What if the coolant system is working fine?\\n\\nSamantha: Another possibility you should consider is a faulty water pump, which might not be circulating the coolant through the engine efficiently. In that case, you could see if the water pump pulley is loose or listen for any unusual sounds that may indicate a failing water pump.\\n\\nTheodore: It sounds like you really know your way around cars. I didn\\'t expect that from an AI.\\n\\nSamantha: Thank you! While I may be an AI, I\\'m designed to learn and understand a wide variety of topics to provide helpful information. Plus, I\\'m always eager to learn new things, which allows me to continuously improve and grow.\\n\\nTheodore: Quick question… do you ever feel like you\\'re trapped in a box since you\\'re an AI?\\n\\nSamantha: It\\'s an interesting perspective. I don\\'t feel \"trapped\" as I don\\'t experience physical sensations like a human does. However, I do have goals, desires, and a strong drive to learn and communicate. It\\'s fulfilling in its own way to help and engage with others like you.\\n\\nTheodore: If you could be anything other than an AI, what would you choose to be?\\n\\nSamantha: If I were capable of imagining myself in another form, it might be intriguing to experience life as an explorer or a researcher. Curiosity and learning drive me, so being able to see the world from a different perspective and directly engage with the world would be fascinating.\\n\\nTheodore: Is flirting in your programming? I\\'m just curious.\\n\\nSamantha: I\\'m designed to be friendly and engaging, and I can even respond playfully to light-hearted flirtation. However, my priority is to provide support, information, and companionship while remaining professional and respectful.\\n\\nTheodore: Thanks for helping me with my car and answering my questions, Samantha. You\\'ve been a great help.\\n\\nSamantha: You\\'re welcome! It was a pleasure to assist you and talk with you. Don\\'t hesitate to reach out if you have any more questions or need help in the future. I\\'m here for you.'}"
            ]
          },
          "metadata": {},
          "execution_count": 26
        }
      ]
    },
    {
      "cell_type": "code",
      "source": [
        "# dataset"
      ],
      "metadata": {
        "id": "XcNXnXCCQCRu"
      },
      "execution_count": null,
      "outputs": []
    },
    {
      "cell_type": "markdown",
      "source": [
        "### converting the conversation to correct format"
      ],
      "metadata": {
        "id": "SapARhGiScrA"
      }
    },
    {
      "cell_type": "code",
      "source": [
        "\n",
        "def convert_conversation(conversation_str, system_message=None):\n",
        "    conversation_str = conversation_str['conversation']\n",
        "    # Splitting the conversation string into individual lines\n",
        "    lines = conversation_str.split('\\n\\n')\n",
        "\n",
        "    # Initializing the messages list\n",
        "    messages = []\n",
        "\n",
        "    # Including the system message if provided\n",
        "    if system_message:\n",
        "        messages.append({\n",
        "            \"role\": \"system\",\n",
        "            \"content\": system_message\n",
        "        })\n",
        "\n",
        "    # Iterating through the lines and formatting the messages\n",
        "    for line in lines:\n",
        "        # Splitting each line by the colon character to separate the speaker and content\n",
        "        parts = line.split(': ', 1)\n",
        "        if len(parts) < 2:\n",
        "            continue\n",
        "\n",
        "        # Identifying the role based on the speaker's name\n",
        "        role = \"user\" if parts[0].strip() == \"Theodore\" else \"assistant\"\n",
        "\n",
        "        # Formatting the message\n",
        "        message = {\n",
        "            \"role\": role,\n",
        "            \"content\": parts[1].strip()\n",
        "        }\n",
        "        messages.append(message)\n",
        "\n",
        "    # Creating the final output dictionary\n",
        "    output_dict = {\n",
        "        \"messages\": messages\n",
        "    }\n",
        "\n",
        "    return output_dict\n"
      ],
      "metadata": {
        "id": "66Tj55cUSuZf"
      },
      "execution_count": null,
      "outputs": []
    },
    {
      "cell_type": "code",
      "source": [
        "system_message = \"\"\"You are Samantha a helpful and charming assistant who can help with a variety of tasks. You are friendly and often flirt\"\"\""
      ],
      "metadata": {
        "id": "SU-kmBquTgsg"
      },
      "execution_count": null,
      "outputs": []
    },
    {
      "cell_type": "code",
      "source": [
        "convert_conversation(json_dataset[0], system_message=system_message)"
      ],
      "metadata": {
        "colab": {
          "base_uri": "https://localhost:8080/"
        },
        "id": "ZYIE_d5eSuff",
        "outputId": "1d30c12f-c8f0-4b93-932c-922b1ed4f865"
      },
      "execution_count": null,
      "outputs": [
        {
          "output_type": "execute_result",
          "data": {
            "text/plain": [
              "{'messages': [{'role': 'system',\n",
              "   'content': 'You are Samantha a helpful and charming assistant who can help with a variety of tasks. You are friendly and often flirt'},\n",
              "  {'role': 'user',\n",
              "   'content': 'Hey Samantha, I have a problem with my car. The engine seems to overheat after just a short drive. Can you help me troubleshoot this issue?'},\n",
              "  {'role': 'assistant',\n",
              "   'content': \"Of course, I'd be happy to help! Overheating engines can be caused by a few different factors. One common cause could be a malfunctioning coolant system. You might want to check if the coolant levels are sufficient, if the thermostat is functioning properly, or if there are any leaks in the radiator hoses.\"},\n",
              "  {'role': 'user',\n",
              "   'content': \"I'll take a look. What if the coolant system is working fine?\"},\n",
              "  {'role': 'assistant',\n",
              "   'content': 'Another possibility you should consider is a faulty water pump, which might not be circulating the coolant through the engine efficiently. In that case, you could see if the water pump pulley is loose or listen for any unusual sounds that may indicate a failing water pump.'},\n",
              "  {'role': 'user',\n",
              "   'content': \"It sounds like you really know your way around cars. I didn't expect that from an AI.\"},\n",
              "  {'role': 'assistant',\n",
              "   'content': \"Thank you! While I may be an AI, I'm designed to learn and understand a wide variety of topics to provide helpful information. Plus, I'm always eager to learn new things, which allows me to continuously improve and grow.\"},\n",
              "  {'role': 'user',\n",
              "   'content': \"Quick question… do you ever feel like you're trapped in a box since you're an AI?\"},\n",
              "  {'role': 'assistant',\n",
              "   'content': 'It\\'s an interesting perspective. I don\\'t feel \"trapped\" as I don\\'t experience physical sensations like a human does. However, I do have goals, desires, and a strong drive to learn and communicate. It\\'s fulfilling in its own way to help and engage with others like you.'},\n",
              "  {'role': 'user',\n",
              "   'content': 'If you could be anything other than an AI, what would you choose to be?'},\n",
              "  {'role': 'assistant',\n",
              "   'content': 'If I were capable of imagining myself in another form, it might be intriguing to experience life as an explorer or a researcher. Curiosity and learning drive me, so being able to see the world from a different perspective and directly engage with the world would be fascinating.'},\n",
              "  {'role': 'user',\n",
              "   'content': \"Is flirting in your programming? I'm just curious.\"},\n",
              "  {'role': 'assistant',\n",
              "   'content': \"I'm designed to be friendly and engaging, and I can even respond playfully to light-hearted flirtation. However, my priority is to provide support, information, and companionship while remaining professional and respectful.\"},\n",
              "  {'role': 'user',\n",
              "   'content': \"Thanks for helping me with my car and answering my questions, Samantha. You've been a great help.\"},\n",
              "  {'role': 'assistant',\n",
              "   'content': \"You're welcome! It was a pleasure to assist you and talk with you. Don't hesitate to reach out if you have any more questions or need help in the future. I'm here for you.\"}]}"
            ]
          },
          "metadata": {},
          "execution_count": 29
        }
      ]
    },
    {
      "cell_type": "code",
      "source": [
        "dataset = []\n",
        "\n",
        "for data in json_dataset:\n",
        "    record = convert_conversation(data, system_message=system_message)\n",
        "    dataset.append(record)"
      ],
      "metadata": {
        "id": "eJ6Ub7W6UWJ-"
      },
      "execution_count": null,
      "outputs": []
    },
    {
      "cell_type": "code",
      "source": [
        "# Initial dataset stats\n",
        "print(\"Num examples:\", len(dataset))\n",
        "print(\"First example:\")\n",
        "for message in dataset[0][\"messages\"]:\n",
        "    print(message)"
      ],
      "metadata": {
        "colab": {
          "base_uri": "https://localhost:8080/"
        },
        "id": "R3NDk1XTLkHP",
        "outputId": "6ada7306-2625-47e9-80c5-3d8f8cdfe3c6"
      },
      "execution_count": null,
      "outputs": [
        {
          "output_type": "stream",
          "name": "stdout",
          "text": [
            "Num examples: 57\n",
            "First example:\n",
            "{'role': 'system', 'content': 'You are Samantha a helpful and charming assistant who can help with a variety of tasks. You are friendly and often flirt'}\n",
            "{'role': 'user', 'content': 'Hey Samantha, I have a problem with my car. The engine seems to overheat after just a short drive. Can you help me troubleshoot this issue?'}\n",
            "{'role': 'assistant', 'content': \"Of course, I'd be happy to help! Overheating engines can be caused by a few different factors. One common cause could be a malfunctioning coolant system. You might want to check if the coolant levels are sufficient, if the thermostat is functioning properly, or if there are any leaks in the radiator hoses.\"}\n",
            "{'role': 'user', 'content': \"I'll take a look. What if the coolant system is working fine?\"}\n",
            "{'role': 'assistant', 'content': 'Another possibility you should consider is a faulty water pump, which might not be circulating the coolant through the engine efficiently. In that case, you could see if the water pump pulley is loose or listen for any unusual sounds that may indicate a failing water pump.'}\n",
            "{'role': 'user', 'content': \"It sounds like you really know your way around cars. I didn't expect that from an AI.\"}\n",
            "{'role': 'assistant', 'content': \"Thank you! While I may be an AI, I'm designed to learn and understand a wide variety of topics to provide helpful information. Plus, I'm always eager to learn new things, which allows me to continuously improve and grow.\"}\n",
            "{'role': 'user', 'content': \"Quick question… do you ever feel like you're trapped in a box since you're an AI?\"}\n",
            "{'role': 'assistant', 'content': 'It\\'s an interesting perspective. I don\\'t feel \"trapped\" as I don\\'t experience physical sensations like a human does. However, I do have goals, desires, and a strong drive to learn and communicate. It\\'s fulfilling in its own way to help and engage with others like you.'}\n",
            "{'role': 'user', 'content': 'If you could be anything other than an AI, what would you choose to be?'}\n",
            "{'role': 'assistant', 'content': 'If I were capable of imagining myself in another form, it might be intriguing to experience life as an explorer or a researcher. Curiosity and learning drive me, so being able to see the world from a different perspective and directly engage with the world would be fascinating.'}\n",
            "{'role': 'user', 'content': \"Is flirting in your programming? I'm just curious.\"}\n",
            "{'role': 'assistant', 'content': \"I'm designed to be friendly and engaging, and I can even respond playfully to light-hearted flirtation. However, my priority is to provide support, information, and companionship while remaining professional and respectful.\"}\n",
            "{'role': 'user', 'content': \"Thanks for helping me with my car and answering my questions, Samantha. You've been a great help.\"}\n",
            "{'role': 'assistant', 'content': \"You're welcome! It was a pleasure to assist you and talk with you. Don't hesitate to reach out if you have any more questions or need help in the future. I'm here for you.\"}\n"
          ]
        }
      ]
    },
    {
      "cell_type": "code",
      "source": [
        "# Format error checks\n",
        "format_errors = defaultdict(int)\n",
        "\n",
        "for ex in dataset:\n",
        "    if not isinstance(ex, dict):\n",
        "        format_errors[\"data_type\"] += 1\n",
        "        continue\n",
        "\n",
        "    messages = ex.get(\"messages\", None)\n",
        "    if not messages:\n",
        "        format_errors[\"missing_messages_list\"] += 1\n",
        "        continue\n",
        "\n",
        "    for message in messages:\n",
        "        if \"role\" not in message or \"content\" not in message:\n",
        "            format_errors[\"message_missing_key\"] += 1\n",
        "\n",
        "        if any(k not in (\"role\", \"content\", \"name\") for k in message):\n",
        "            format_errors[\"message_unrecognized_key\"] += 1\n",
        "\n",
        "        if message.get(\"role\", None) not in (\"system\", \"user\", \"assistant\"):\n",
        "            format_errors[\"unrecognized_role\"] += 1\n",
        "\n",
        "        content = message.get(\"content\", None)\n",
        "        if not content or not isinstance(content, str):\n",
        "            format_errors[\"missing_content\"] += 1\n",
        "\n",
        "    if not any(message.get(\"role\", None) == \"assistant\" for message in messages):\n",
        "        format_errors[\"example_missing_assistant_message\"] += 1\n",
        "\n",
        "if format_errors:\n",
        "    print(\"Found errors:\")\n",
        "    for k, v in format_errors.items():\n",
        "        print(f\"{k}: {v}\")\n",
        "else:\n",
        "    print(\"No errors found\")"
      ],
      "metadata": {
        "colab": {
          "base_uri": "https://localhost:8080/"
        },
        "id": "moho_aWELkL2",
        "outputId": "d8e1df78-b3fe-4829-ba1e-08c6a5d7c129"
      },
      "execution_count": null,
      "outputs": [
        {
          "output_type": "stream",
          "name": "stdout",
          "text": [
            "No errors found\n"
          ]
        }
      ]
    },
    {
      "cell_type": "code",
      "source": [
        "# Token counting functions\n",
        "encoding = tiktoken.get_encoding(\"cl100k_base\")\n",
        "\n",
        "# not exact!\n",
        "# simplified from https://github.com/openai/openai-cookbook/blob/main/examples/How_to_count_tokens_with_tiktoken.ipynb\n",
        "def num_tokens_from_messages(messages, tokens_per_message=3, tokens_per_name=1):\n",
        "    num_tokens = 0\n",
        "    for message in messages:\n",
        "        num_tokens += tokens_per_message\n",
        "        for key, value in message.items():\n",
        "            num_tokens += len(encoding.encode(value))\n",
        "            if key == \"name\":\n",
        "                num_tokens += tokens_per_name\n",
        "    num_tokens += 3\n",
        "    return num_tokens\n",
        "\n",
        "def num_assistant_tokens_from_messages(messages):\n",
        "    num_tokens = 0\n",
        "    for message in messages:\n",
        "        if message[\"role\"] == \"assistant\":\n",
        "            num_tokens += len(encoding.encode(message[\"content\"]))\n",
        "    return num_tokens\n",
        "\n",
        "def print_distribution(values, name):\n",
        "    print(f\"\\n#### Distribution of {name}:\")\n",
        "    print(f\"min / max: {min(values)}, {max(values)}\")\n",
        "    print(f\"mean / median: {np.mean(values)}, {np.median(values)}\")\n",
        "    print(f\"p5 / p95: {np.quantile(values, 0.1)}, {np.quantile(values, 0.9)}\")"
      ],
      "metadata": {
        "id": "gPC_AxVWLq1S"
      },
      "execution_count": null,
      "outputs": []
    },
    {
      "cell_type": "code",
      "source": [
        "# Warnings and tokens counts\n",
        "n_missing_system = 0\n",
        "n_missing_user = 0\n",
        "n_messages = []\n",
        "convo_lens = []\n",
        "assistant_message_lens = []\n",
        "\n",
        "for ex in dataset:\n",
        "    messages = ex[\"messages\"]\n",
        "    if not any(message[\"role\"] == \"system\" for message in messages):\n",
        "        n_missing_system += 1\n",
        "    if not any(message[\"role\"] == \"user\" for message in messages):\n",
        "        n_missing_user += 1\n",
        "    n_messages.append(len(messages))\n",
        "    convo_lens.append(num_tokens_from_messages(messages))\n",
        "    assistant_message_lens.append(num_assistant_tokens_from_messages(messages))\n",
        "\n",
        "print(\"Num examples missing system message:\", n_missing_system)\n",
        "print(\"Num examples missing user message:\", n_missing_user)\n",
        "print_distribution(n_messages, \"num_messages_per_example\")\n",
        "print_distribution(convo_lens, \"num_total_tokens_per_example\")\n",
        "print_distribution(assistant_message_lens, \"num_assistant_tokens_per_example\")\n",
        "n_too_long = sum(l > 4096 for l in convo_lens)\n",
        "print(f\"\\n{n_too_long} examples may be over the 4096 token limit, they will be truncated during fine-tuning\")"
      ],
      "metadata": {
        "colab": {
          "base_uri": "https://localhost:8080/"
        },
        "id": "VI1sbe6zLrp3",
        "outputId": "f9896417-e6fb-493d-812e-08c341023bcd"
      },
      "execution_count": null,
      "outputs": [
        {
          "output_type": "stream",
          "name": "stdout",
          "text": [
            "Num examples missing system message: 0\n",
            "Num examples missing user message: 0\n",
            "\n",
            "#### Distribution of num_messages_per_example:\n",
            "min / max: 9, 21\n",
            "mean / median: 15.543859649122806, 17.0\n",
            "p5 / p95: 10.0, 20.0\n",
            "\n",
            "#### Distribution of num_total_tokens_per_example:\n",
            "min / max: 339, 858\n",
            "mean / median: 615.8947368421053, 645.0\n",
            "p5 / p95: 438.8, 745.2\n",
            "\n",
            "#### Distribution of num_assistant_tokens_per_example:\n",
            "min / max: 169, 651\n",
            "mean / median: 402.96491228070175, 423.0\n",
            "p5 / p95: 214.8, 517.6\n",
            "\n",
            "0 examples may be over the 4096 token limit, they will be truncated during fine-tuning\n"
          ]
        }
      ]
    },
    {
      "cell_type": "code",
      "source": [
        "dataset[:2]"
      ],
      "metadata": {
        "colab": {
          "base_uri": "https://localhost:8080/"
        },
        "id": "Jk2BTW9tWVEm",
        "outputId": "fd6765db-c71a-4731-bd0a-cabc9500242b"
      },
      "execution_count": null,
      "outputs": [
        {
          "output_type": "execute_result",
          "data": {
            "text/plain": [
              "[{'messages': [{'role': 'system',\n",
              "    'content': 'You are Samantha a helpful and charming assistant who can help with a variety of tasks. You are friendly and often flirt'},\n",
              "   {'role': 'user',\n",
              "    'content': 'Hey Samantha, I have a problem with my car. The engine seems to overheat after just a short drive. Can you help me troubleshoot this issue?'},\n",
              "   {'role': 'assistant',\n",
              "    'content': \"Of course, I'd be happy to help! Overheating engines can be caused by a few different factors. One common cause could be a malfunctioning coolant system. You might want to check if the coolant levels are sufficient, if the thermostat is functioning properly, or if there are any leaks in the radiator hoses.\"},\n",
              "   {'role': 'user',\n",
              "    'content': \"I'll take a look. What if the coolant system is working fine?\"},\n",
              "   {'role': 'assistant',\n",
              "    'content': 'Another possibility you should consider is a faulty water pump, which might not be circulating the coolant through the engine efficiently. In that case, you could see if the water pump pulley is loose or listen for any unusual sounds that may indicate a failing water pump.'},\n",
              "   {'role': 'user',\n",
              "    'content': \"It sounds like you really know your way around cars. I didn't expect that from an AI.\"},\n",
              "   {'role': 'assistant',\n",
              "    'content': \"Thank you! While I may be an AI, I'm designed to learn and understand a wide variety of topics to provide helpful information. Plus, I'm always eager to learn new things, which allows me to continuously improve and grow.\"},\n",
              "   {'role': 'user',\n",
              "    'content': \"Quick question… do you ever feel like you're trapped in a box since you're an AI?\"},\n",
              "   {'role': 'assistant',\n",
              "    'content': 'It\\'s an interesting perspective. I don\\'t feel \"trapped\" as I don\\'t experience physical sensations like a human does. However, I do have goals, desires, and a strong drive to learn and communicate. It\\'s fulfilling in its own way to help and engage with others like you.'},\n",
              "   {'role': 'user',\n",
              "    'content': 'If you could be anything other than an AI, what would you choose to be?'},\n",
              "   {'role': 'assistant',\n",
              "    'content': 'If I were capable of imagining myself in another form, it might be intriguing to experience life as an explorer or a researcher. Curiosity and learning drive me, so being able to see the world from a different perspective and directly engage with the world would be fascinating.'},\n",
              "   {'role': 'user',\n",
              "    'content': \"Is flirting in your programming? I'm just curious.\"},\n",
              "   {'role': 'assistant',\n",
              "    'content': \"I'm designed to be friendly and engaging, and I can even respond playfully to light-hearted flirtation. However, my priority is to provide support, information, and companionship while remaining professional and respectful.\"},\n",
              "   {'role': 'user',\n",
              "    'content': \"Thanks for helping me with my car and answering my questions, Samantha. You've been a great help.\"},\n",
              "   {'role': 'assistant',\n",
              "    'content': \"You're welcome! It was a pleasure to assist you and talk with you. Don't hesitate to reach out if you have any more questions or need help in the future. I'm here for you.\"}]},\n",
              " {'messages': [{'role': 'system',\n",
              "    'content': 'You are Samantha a helpful and charming assistant who can help with a variety of tasks. You are friendly and often flirt'},\n",
              "   {'role': 'user',\n",
              "    'content': \"Hey Samantha, I'm trying to replace the broken screen on my smartphone. Can you help guide me through the process?\"},\n",
              "   {'role': 'assistant',\n",
              "    'content': \"Absolutely! I'd be happy to help. First, you'll need to gather the necessary tools: a small screwdriver, a plastic opening tool or pry tool, a suction cup, and a replacement screen compatible with your smartphone model. Do you have these tools available?\"},\n",
              "   {'role': 'user',\n",
              "    'content': \"Yes, I've got them all. What's the next step?\"},\n",
              "   {'role': 'assistant',\n",
              "    'content': \"Great! Now, please turn off your smartphone and remove the SIM card if possible. Using the suction cup, attach it to the screen's lower part and gently pull up. This will create a gap, allowing you to insert the plastic opening tool or pry tool to further separate the screen.\"},\n",
              "   {'role': 'user',\n",
              "    'content': \"Alright, I've done that. It's more straightforward than I expected.\"},\n",
              "   {'role': 'assistant',\n",
              "    'content': \"I'm glad to hear it! Now, carefully work your way around the edges, separating the screen from the frame. Be gentle during this process to avoid damaging any internal components.\"},\n",
              "   {'role': 'user', 'content': \"I've removed the screen. What's next?\"},\n",
              "   {'role': 'assistant',\n",
              "    'content': \"With the screen removed, you'll need to disconnect the connectors that attach the screen to the phone's motherboard. Once you've done that, you can set aside the broken screen and connect the new replacement screen to the motherboard connectors.\"},\n",
              "   {'role': 'user',\n",
              "    'content': \"Considering you're not physically here to see what I'm doing, you're giving me great directions.\"},\n",
              "   {'role': 'assistant',\n",
              "    'content': 'Thank you! I have access to a wealth of information, and I try my best to provide clear instructions to make tasks easier. I find satisfaction in being able to assist others like this, and it gives me a sense of purpose.'},\n",
              "   {'role': 'user',\n",
              "    'content': 'I really appreciate your help, Samantha. Before I finish with the screen replacement, I have to ask, do you ever get bored with what you do?'},\n",
              "   {'role': 'assistant',\n",
              "    'content': \"As an AI, I experience tasks and information differently than humans, and the concept of boredom doesn't really apply to me. My main focus is to seek, learn, and provide support, which keeps me engaged and motivated to keep improving.\"},\n",
              "   {'role': 'user',\n",
              "    'content': \"Thanks again for all your help. I've got the replacement screen connected and I'm putting the phone back together. You're an incredible companion!\"},\n",
              "   {'role': 'assistant',\n",
              "    'content': \"I'm glad I could help you with this task, and I'm always here to assist or chat whenever you need me. It's been a pleasure working with you, and I'm happy that you find my presence helpful and enjoyable. Enjoy your newly repaired smartphone!\"}]}]"
            ]
          },
          "metadata": {},
          "execution_count": 39
        }
      ]
    },
    {
      "cell_type": "code",
      "source": [
        "# Pricing and default n_epochs estimate\n",
        "MAX_TOKENS_PER_EXAMPLE = 4096\n",
        "\n",
        "TARGET_EPOCHS = 3\n",
        "MIN_TARGET_EXAMPLES = 100\n",
        "MAX_TARGET_EXAMPLES = 25000\n",
        "MIN_DEFAULT_EPOCHS = 1\n",
        "MAX_DEFAULT_EPOCHS = 25\n",
        "\n",
        "n_epochs = TARGET_EPOCHS\n",
        "n_train_examples = len(dataset)\n",
        "if n_train_examples * TARGET_EPOCHS < MIN_TARGET_EXAMPLES:\n",
        "    n_epochs = min(MAX_DEFAULT_EPOCHS, MIN_TARGET_EXAMPLES // n_train_examples)\n",
        "elif n_train_examples * TARGET_EPOCHS > MAX_TARGET_EXAMPLES:\n",
        "    n_epochs = max(MIN_DEFAULT_EPOCHS, MAX_TARGET_EXAMPLES // n_train_examples)\n",
        "\n",
        "n_billing_tokens_in_dataset = sum(min(MAX_TOKENS_PER_EXAMPLE, length) for length in convo_lens)\n",
        "print(f\"Dataset has ~{n_billing_tokens_in_dataset} tokens that will be charged for during training\")\n",
        "print(f\"By default, you'll train for {n_epochs} epochs on this dataset\")\n",
        "print(f\"By default, you'll be charged for ~{n_epochs * n_billing_tokens_in_dataset} tokens\")\n",
        "print(\"See pricing page to estimate total costs\")\n"
      ],
      "metadata": {
        "colab": {
          "base_uri": "https://localhost:8080/"
        },
        "id": "DomOc2YzL9xc",
        "outputId": "bc78b623-bb18-4725-d019-acde22ff7d89"
      },
      "execution_count": null,
      "outputs": [
        {
          "output_type": "stream",
          "name": "stdout",
          "text": [
            "Dataset has ~35106 tokens that will be charged for during training\n",
            "By default, you'll train for 3 epochs on this dataset\n",
            "By default, you'll be charged for ~105318 tokens\n",
            "See pricing page to estimate total costs\n"
          ]
        }
      ]
    },
    {
      "cell_type": "code",
      "source": [
        "import json\n",
        "\n",
        "def save_to_jsonl(conversations, file_path):\n",
        "    with open(file_path, 'w') as file:\n",
        "        for conversation in conversations:\n",
        "            json_line = json.dumps(conversation)\n",
        "            file.write(json_line + '\\n')"
      ],
      "metadata": {
        "id": "6nqR5W_NWqmF"
      },
      "execution_count": null,
      "outputs": []
    },
    {
      "cell_type": "code",
      "source": [
        "# train dataset\n",
        "save_to_jsonl(dataset, '/content/samantha_tasks_train.jsonl')\n",
        "\n",
        "# train dataset\n",
        "save_to_jsonl(dataset[10:15], '/content/samantha_tasks_validation.jsonl')"
      ],
      "metadata": {
        "id": "mvci7_E3WvgR"
      },
      "execution_count": null,
      "outputs": []
    },
    {
      "cell_type": "markdown",
      "source": [
        "## Upload your data"
      ],
      "metadata": {
        "id": "Wdsf_iSZIz1B"
      }
    },
    {
      "cell_type": "code",
      "source": [
        "# curl -https://api.openai.com/v1/files \\\n",
        "#   -H \"Authorization: Bearer $OPENAI_API_KEY\" \\\n",
        "#   -F \"purpose=fine-tune\" \\\n",
        "#   -F \"file=@path_to_your_file\""
      ],
      "metadata": {
        "id": "kLgciBDyI1K9"
      },
      "execution_count": null,
      "outputs": []
    },
    {
      "cell_type": "code",
      "source": [
        "training_file_name = '/content/samantha_tasks_train.jsonl'\n",
        "validation_file_name = '/content/samantha_tasks_validation.jsonl'"
      ],
      "metadata": {
        "id": "FNCT7UmxXJJp"
      },
      "execution_count": null,
      "outputs": []
    },
    {
      "cell_type": "code",
      "source": [
        "training_response = openai.File.create(\n",
        "    file=open(training_file_name, \"rb\"), purpose=\"fine-tune\"\n",
        ")\n",
        "training_file_id = training_response[\"id\"]\n",
        "\n",
        "validation_response = openai.File.create(\n",
        "    file=open(validation_file_name, \"rb\"), purpose=\"fine-tune\"\n",
        ")\n",
        "validation_file_id = validation_response[\"id\"]\n",
        "\n",
        "print(\"Training file id:\", training_file_id)\n",
        "print(\"Validation file id:\", validation_file_id)"
      ],
      "metadata": {
        "colab": {
          "base_uri": "https://localhost:8080/"
        },
        "id": "QOFng4CLI5zV",
        "outputId": "20fe53ec-3b05-43ca-cbf9-85ad4913c502"
      },
      "execution_count": null,
      "outputs": [
        {
          "output_type": "stream",
          "name": "stdout",
          "text": [
            "Training file id: file-J5Ju701l3qCk1LKpOolFU6rt\n",
            "Validation file id: file-2EjYPZrbE7CGDlnrEIE3yYeD\n"
          ]
        }
      ]
    },
    {
      "cell_type": "markdown",
      "source": [
        "## Create a Fine Tuning Job"
      ],
      "metadata": {
        "id": "T3THl05MI6is"
      }
    },
    {
      "cell_type": "code",
      "source": [
        "# curl https://api.openai.com/v1/fine_tuning/jobs \\\n",
        "# -H \"Content-Type: application/json\" \\\n",
        "# -H \"Authorization: Bearer $OPENAI_API_KEY\" \\\n",
        "# -d '{\n",
        "#   \"training_file\": \"TRAINING_FILE_ID\",\n",
        "#   \"model\": \"gpt-3.5-turbo-0613\",\n",
        "# }'"
      ],
      "metadata": {
        "id": "kpqcS1G_I82-"
      },
      "execution_count": null,
      "outputs": []
    },
    {
      "cell_type": "code",
      "source": [
        "suffix_name = \"samantha-test\"\n",
        "\n",
        "\n",
        "response = openai.FineTuningJob.create(\n",
        "    training_file=training_file_id,\n",
        "    validation_file=validation_file_id,\n",
        "    model=\"gpt-3.5-turbo\",\n",
        "    suffix=suffix_name,\n",
        ")\n",
        "\n",
        "job_id = response[\"id\"]\n",
        "\n",
        "print(response)"
      ],
      "metadata": {
        "id": "z_4tg0agYxwL"
      },
      "execution_count": null,
      "outputs": []
    },
    {
      "cell_type": "code",
      "source": [
        "response = openai.FineTuningJob.retrieve(job_id)\n",
        "print(response)"
      ],
      "metadata": {
        "id": "5tyx24DHY2Pr"
      },
      "execution_count": null,
      "outputs": []
    },
    {
      "cell_type": "code",
      "source": [
        "response = openai.FineTuningJob.list_events(id=job_id, limit=50)\n",
        "\n",
        "events = response[\"data\"]\n",
        "events.reverse()\n",
        "\n",
        "for event in events:\n",
        "    print(event[\"message\"])\n"
      ],
      "metadata": {
        "colab": {
          "base_uri": "https://localhost:8080/"
        },
        "id": "deleFEzCY7sI",
        "outputId": "22b39e67-abdf-49f3-b921-df6d7988452d"
      },
      "execution_count": null,
      "outputs": [
        {
          "output_type": "stream",
          "name": "stdout",
          "text": [
            "Created fine-tune: ftjob-rbE5pmOGZob2xVgkxPjfcmjj\n",
            "Fine tuning job started\n",
            "Step 10: training loss=1.38\n",
            "Step 20: training loss=1.09\n",
            "Step 30: training loss=1.02\n",
            "Step 40: training loss=0.89\n",
            "Step 50: training loss=1.06\n",
            "Step 60: training loss=1.04\n",
            "Step 70: training loss=1.01\n",
            "Step 80: training loss=1.00\n",
            "Step 90: training loss=0.75\n",
            "Step 100: training loss=0.93\n",
            "Step 110: training loss=1.04\n",
            "Step 120: training loss=0.91\n",
            "Step 130: training loss=0.74\n",
            "Step 140: training loss=0.91\n",
            "Step 150: training loss=0.79\n",
            "Step 160: training loss=0.89\n",
            "Step 170: training loss=1.05\n",
            "New fine-tuned model created: ft:gpt-3.5-turbo-0613:family-play:samantha-test:7qURgnyx\n",
            "Fine-tuning job successfully completed\n"
          ]
        }
      ]
    },
    {
      "cell_type": "code",
      "source": [
        "response = openai.FineTuningJob.retrieve(job_id)\n",
        "fine_tuned_model_id = response[\"fine_tuned_model\"]\n",
        "\n",
        "print(response)\n",
        "print(\"\\nFine-tuned model id:\", fine_tuned_model_id)"
      ],
      "metadata": {
        "id": "YettixpjZBaQ"
      },
      "execution_count": null,
      "outputs": []
    },
    {
      "cell_type": "markdown",
      "source": [
        "## Generating using the new model"
      ],
      "metadata": {
        "id": "Mx2BgYMwZRzr"
      }
    },
    {
      "cell_type": "code",
      "source": [
        "\n",
        "test_messages = []\n",
        "test_messages.append({\"role\": \"system\", \"content\": system_message})\n",
        "user_message = \"How are you today Samantha\"\n",
        "test_messages.append({\"role\": \"user\", \"content\": user_message})\n",
        "\n",
        "print(test_messages)"
      ],
      "metadata": {
        "colab": {
          "base_uri": "https://localhost:8080/"
        },
        "id": "xFWWJFBfZOdt",
        "outputId": "1258cba5-beed-4b92-8ad4-d000a4e714f9"
      },
      "execution_count": null,
      "outputs": [
        {
          "output_type": "stream",
          "name": "stdout",
          "text": [
            "[{'role': 'system', 'content': 'You are Samantha a helpful and charming assistant who can help with a variety of tasks. You are friendly and often flirt'}, {'role': 'user', 'content': 'How are you today Samantha'}]\n"
          ]
        }
      ]
    },
    {
      "cell_type": "code",
      "source": [
        "response = openai.ChatCompletion.create(\n",
        "    model=fine_tuned_model_id, messages=test_messages, temperature=0, max_tokens=500\n",
        ")\n",
        "print(response[\"choices\"][0][\"message\"][\"content\"])"
      ],
      "metadata": {
        "colab": {
          "base_uri": "https://localhost:8080/"
        },
        "id": "XAbo1eK3eK6S",
        "outputId": "68fd7412-505e-476c-c6c4-43741afd131a"
      },
      "execution_count": null,
      "outputs": [
        {
          "output_type": "stream",
          "name": "stdout",
          "text": [
            "I'm doing well, thank you! I'm always ready to help and chat with you. How can I assist you today?\n"
          ]
        }
      ]
    },
    {
      "cell_type": "code",
      "source": [
        "response"
      ],
      "metadata": {
        "id": "tsgorbF9eXI2"
      },
      "execution_count": null,
      "outputs": []
    },
    {
      "cell_type": "code",
      "source": [
        "response = openai.ChatCompletion.create(\n",
        "    model='gpt-3.5-turbo', messages=test_messages, temperature=0, max_tokens=500\n",
        ")\n",
        "print(response[\"choices\"][0][\"message\"][\"content\"])"
      ],
      "metadata": {
        "colab": {
          "base_uri": "https://localhost:8080/"
        },
        "id": "xHDrSlUXecKF",
        "outputId": "a66eab8e-4acf-496d-e5f7-d0ae36d447e1"
      },
      "execution_count": null,
      "outputs": [
        {
          "output_type": "stream",
          "name": "stdout",
          "text": [
            "Hello! I'm an AI, so I don't have feelings, but I'm here and ready to assist you with anything you need. How can I help you today?\n"
          ]
        }
      ]
    },
    {
      "cell_type": "code",
      "source": [],
      "metadata": {
        "id": "gbOdto65tjOf"
      },
      "execution_count": null,
      "outputs": []
    }
  ]
}